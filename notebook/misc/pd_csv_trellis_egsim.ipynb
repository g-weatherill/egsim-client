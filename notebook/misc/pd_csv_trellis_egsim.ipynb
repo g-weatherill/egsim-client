{
 "cells": [
  {
   "cell_type": "code",
   "execution_count": 1,
   "id": "dd237973-e2a3-4aee-8468-7a310c88f8b6",
   "metadata": {},
   "outputs": [],
   "source": [
    "import pandas as pd\n",
    "import numpy as np\n",
    "import os\n",
    "import csv"
   ]
  },
  {
   "cell_type": "markdown",
   "id": "a11cc59f-dbe0-41ee-b6a3-07a625ce23f9",
   "metadata": {},
   "source": [
    "## Creating dataframe"
   ]
  },
  {
   "cell_type": "code",
   "execution_count": 2,
   "id": "a509bf7b-8b04-44b3-9498-5dc2ff11ecde",
   "metadata": {},
   "outputs": [
    {
     "data": {
      "text/html": [
       "<div>\n",
       "<style scoped>\n",
       "    .dataframe tbody tr th:only-of-type {\n",
       "        vertical-align: middle;\n",
       "    }\n",
       "\n",
       "    .dataframe tbody tr th {\n",
       "        vertical-align: top;\n",
       "    }\n",
       "\n",
       "    .dataframe thead tr th {\n",
       "        text-align: left;\n",
       "    }\n",
       "</style>\n",
       "<table border=\"1\" class=\"dataframe\">\n",
       "  <thead>\n",
       "    <tr>\n",
       "      <th>name</th>\n",
       "      <th>mag</th>\n",
       "      <th>rrup</th>\n",
       "      <th>period</th>\n",
       "      <th colspan=\"4\" halign=\"left\">median</th>\n",
       "    </tr>\n",
       "    <tr>\n",
       "      <th>imt</th>\n",
       "      <th></th>\n",
       "      <th></th>\n",
       "      <th></th>\n",
       "      <th colspan=\"2\" halign=\"left\">SA(0.1)</th>\n",
       "      <th colspan=\"2\" halign=\"left\">PGA</th>\n",
       "    </tr>\n",
       "    <tr>\n",
       "      <th>model</th>\n",
       "      <th></th>\n",
       "      <th></th>\n",
       "      <th></th>\n",
       "      <th>AkkarEtAl2008</th>\n",
       "      <th>CauzziEtAl2014</th>\n",
       "      <th>AkkarEtAl2008</th>\n",
       "      <th>CauzziEtAl2014</th>\n",
       "    </tr>\n",
       "  </thead>\n",
       "  <tbody>\n",
       "    <tr>\n",
       "      <th>0</th>\n",
       "      <td>0.545155</td>\n",
       "      <td>0.622717</td>\n",
       "      <td>-0.783415</td>\n",
       "      <td>0.062108</td>\n",
       "      <td>1.279864</td>\n",
       "      <td>-0.414853</td>\n",
       "      <td>0.290270</td>\n",
       "    </tr>\n",
       "    <tr>\n",
       "      <th>1</th>\n",
       "      <td>-0.154762</td>\n",
       "      <td>1.045295</td>\n",
       "      <td>-1.400185</td>\n",
       "      <td>1.459138</td>\n",
       "      <td>-1.150115</td>\n",
       "      <td>1.561160</td>\n",
       "      <td>1.510390</td>\n",
       "    </tr>\n",
       "    <tr>\n",
       "      <th>2</th>\n",
       "      <td>0.212283</td>\n",
       "      <td>0.248935</td>\n",
       "      <td>-0.761943</td>\n",
       "      <td>-0.838238</td>\n",
       "      <td>-0.632401</td>\n",
       "      <td>-0.110344</td>\n",
       "      <td>-2.105361</td>\n",
       "    </tr>\n",
       "    <tr>\n",
       "      <th>3</th>\n",
       "      <td>0.115162</td>\n",
       "      <td>-0.067061</td>\n",
       "      <td>0.131864</td>\n",
       "      <td>1.280487</td>\n",
       "      <td>-0.768331</td>\n",
       "      <td>-0.297862</td>\n",
       "      <td>-0.329636</td>\n",
       "    </tr>\n",
       "    <tr>\n",
       "      <th>4</th>\n",
       "      <td>-0.338373</td>\n",
       "      <td>-0.086542</td>\n",
       "      <td>-2.450007</td>\n",
       "      <td>-0.051049</td>\n",
       "      <td>0.943355</td>\n",
       "      <td>-0.889226</td>\n",
       "      <td>0.078667</td>\n",
       "    </tr>\n",
       "    <tr>\n",
       "      <th>5</th>\n",
       "      <td>-2.159022</td>\n",
       "      <td>0.889443</td>\n",
       "      <td>0.085607</td>\n",
       "      <td>-0.196073</td>\n",
       "      <td>-1.091210</td>\n",
       "      <td>-0.894450</td>\n",
       "      <td>-0.556169</td>\n",
       "    </tr>\n",
       "  </tbody>\n",
       "</table>\n",
       "</div>"
      ],
      "text/plain": [
       "name        mag      rrup    period        median                 \\\n",
       "imt                                       SA(0.1)                  \n",
       "model                               AkkarEtAl2008 CauzziEtAl2014   \n",
       "0      0.545155  0.622717 -0.783415      0.062108       1.279864   \n",
       "1     -0.154762  1.045295 -1.400185      1.459138      -1.150115   \n",
       "2      0.212283  0.248935 -0.761943     -0.838238      -0.632401   \n",
       "3      0.115162 -0.067061  0.131864      1.280487      -0.768331   \n",
       "4     -0.338373 -0.086542 -2.450007     -0.051049       0.943355   \n",
       "5     -2.159022  0.889443  0.085607     -0.196073      -1.091210   \n",
       "\n",
       "name                                \n",
       "imt             PGA                 \n",
       "model AkkarEtAl2008 CauzziEtAl2014  \n",
       "0         -0.414853       0.290270  \n",
       "1          1.561160       1.510390  \n",
       "2         -0.110344      -2.105361  \n",
       "3         -0.297862      -0.329636  \n",
       "4         -0.889226       0.078667  \n",
       "5         -0.894450      -0.556169  "
      ]
     },
     "metadata": {},
     "output_type": "display_data"
    }
   ],
   "source": [
    "mags = [5.5, 6.5]\n",
    "dists = [10, 100, 1000]\n",
    "# idx = pd.MultiIndex.from_product([mags, dists, [0]], names=[\"mag\", \"rrup\", \"period\", \"medians\"])\n",
    "\n",
    "imts = ['SA(0.1)', 'PGA']\n",
    "models = ['AkkarEtAl2008', 'CauzziEtAl2014']\n",
    "\n",
    "from itertools import product\n",
    "colz = list(product(['median'], imts, models))\n",
    "colz = [('mag', '', ''), ('rrup', '', ''), ('period', '', '')] + colz\n",
    "\n",
    "df = pd.DataFrame(np.random.randn(6, 7), columns=pd.MultiIndex.from_tuples(colz, names=['name', 'imt', 'model']))\n",
    "display(df)"
   ]
  },
  {
   "cell_type": "markdown",
   "id": "3773ee05-12ff-4df5-a6eb-66ee38d01ca6",
   "metadata": {},
   "source": [
    "### Accessing data"
   ]
  },
  {
   "cell_type": "code",
   "execution_count": 3,
   "id": "a9062b7c-7fa3-4143-83c2-84ec9e356827",
   "metadata": {},
   "outputs": [
    {
     "data": {
      "text/markdown": [
       "**`df.mag`**"
      ],
      "text/plain": [
       "<IPython.core.display.Markdown object>"
      ]
     },
     "metadata": {},
     "output_type": "display_data"
    },
    {
     "data": {
      "text/plain": [
       "0    0.545155\n",
       "1   -0.154762\n",
       "2    0.212283\n",
       "3    0.115162\n",
       "4   -0.338373\n",
       "5   -2.159022\n",
       "Name: mag, dtype: float64"
      ]
     },
     "metadata": {},
     "output_type": "display_data"
    },
    {
     "name": "stdout",
     "output_type": "stream",
     "text": [
      "\n"
     ]
    },
    {
     "data": {
      "text/markdown": [
       "**`df[\"median\"]`**"
      ],
      "text/plain": [
       "<IPython.core.display.Markdown object>"
      ]
     },
     "metadata": {},
     "output_type": "display_data"
    },
    {
     "data": {
      "text/html": [
       "<div>\n",
       "<style scoped>\n",
       "    .dataframe tbody tr th:only-of-type {\n",
       "        vertical-align: middle;\n",
       "    }\n",
       "\n",
       "    .dataframe tbody tr th {\n",
       "        vertical-align: top;\n",
       "    }\n",
       "\n",
       "    .dataframe thead tr th {\n",
       "        text-align: left;\n",
       "    }\n",
       "</style>\n",
       "<table border=\"1\" class=\"dataframe\">\n",
       "  <thead>\n",
       "    <tr>\n",
       "      <th>imt</th>\n",
       "      <th colspan=\"2\" halign=\"left\">SA(0.1)</th>\n",
       "      <th colspan=\"2\" halign=\"left\">PGA</th>\n",
       "    </tr>\n",
       "    <tr>\n",
       "      <th>model</th>\n",
       "      <th>AkkarEtAl2008</th>\n",
       "      <th>CauzziEtAl2014</th>\n",
       "      <th>AkkarEtAl2008</th>\n",
       "      <th>CauzziEtAl2014</th>\n",
       "    </tr>\n",
       "  </thead>\n",
       "  <tbody>\n",
       "    <tr>\n",
       "      <th>0</th>\n",
       "      <td>0.062108</td>\n",
       "      <td>1.279864</td>\n",
       "      <td>-0.414853</td>\n",
       "      <td>0.290270</td>\n",
       "    </tr>\n",
       "    <tr>\n",
       "      <th>1</th>\n",
       "      <td>1.459138</td>\n",
       "      <td>-1.150115</td>\n",
       "      <td>1.561160</td>\n",
       "      <td>1.510390</td>\n",
       "    </tr>\n",
       "    <tr>\n",
       "      <th>2</th>\n",
       "      <td>-0.838238</td>\n",
       "      <td>-0.632401</td>\n",
       "      <td>-0.110344</td>\n",
       "      <td>-2.105361</td>\n",
       "    </tr>\n",
       "    <tr>\n",
       "      <th>3</th>\n",
       "      <td>1.280487</td>\n",
       "      <td>-0.768331</td>\n",
       "      <td>-0.297862</td>\n",
       "      <td>-0.329636</td>\n",
       "    </tr>\n",
       "    <tr>\n",
       "      <th>4</th>\n",
       "      <td>-0.051049</td>\n",
       "      <td>0.943355</td>\n",
       "      <td>-0.889226</td>\n",
       "      <td>0.078667</td>\n",
       "    </tr>\n",
       "    <tr>\n",
       "      <th>5</th>\n",
       "      <td>-0.196073</td>\n",
       "      <td>-1.091210</td>\n",
       "      <td>-0.894450</td>\n",
       "      <td>-0.556169</td>\n",
       "    </tr>\n",
       "  </tbody>\n",
       "</table>\n",
       "</div>"
      ],
      "text/plain": [
       "imt         SA(0.1)                          PGA               \n",
       "model AkkarEtAl2008 CauzziEtAl2014 AkkarEtAl2008 CauzziEtAl2014\n",
       "0          0.062108       1.279864     -0.414853       0.290270\n",
       "1          1.459138      -1.150115      1.561160       1.510390\n",
       "2         -0.838238      -0.632401     -0.110344      -2.105361\n",
       "3          1.280487      -0.768331     -0.297862      -0.329636\n",
       "4         -0.051049       0.943355     -0.889226       0.078667\n",
       "5         -0.196073      -1.091210     -0.894450      -0.556169"
      ]
     },
     "metadata": {},
     "output_type": "display_data"
    },
    {
     "name": "stdout",
     "output_type": "stream",
     "text": [
      "\n"
     ]
    },
    {
     "data": {
      "text/markdown": [
       "**`df[\"median\"][\"SA(0.1)\"]`**"
      ],
      "text/plain": [
       "<IPython.core.display.Markdown object>"
      ]
     },
     "metadata": {},
     "output_type": "display_data"
    },
    {
     "data": {
      "text/html": [
       "<div>\n",
       "<style scoped>\n",
       "    .dataframe tbody tr th:only-of-type {\n",
       "        vertical-align: middle;\n",
       "    }\n",
       "\n",
       "    .dataframe tbody tr th {\n",
       "        vertical-align: top;\n",
       "    }\n",
       "\n",
       "    .dataframe thead th {\n",
       "        text-align: right;\n",
       "    }\n",
       "</style>\n",
       "<table border=\"1\" class=\"dataframe\">\n",
       "  <thead>\n",
       "    <tr style=\"text-align: right;\">\n",
       "      <th>model</th>\n",
       "      <th>AkkarEtAl2008</th>\n",
       "      <th>CauzziEtAl2014</th>\n",
       "    </tr>\n",
       "  </thead>\n",
       "  <tbody>\n",
       "    <tr>\n",
       "      <th>0</th>\n",
       "      <td>0.062108</td>\n",
       "      <td>1.279864</td>\n",
       "    </tr>\n",
       "    <tr>\n",
       "      <th>1</th>\n",
       "      <td>1.459138</td>\n",
       "      <td>-1.150115</td>\n",
       "    </tr>\n",
       "    <tr>\n",
       "      <th>2</th>\n",
       "      <td>-0.838238</td>\n",
       "      <td>-0.632401</td>\n",
       "    </tr>\n",
       "    <tr>\n",
       "      <th>3</th>\n",
       "      <td>1.280487</td>\n",
       "      <td>-0.768331</td>\n",
       "    </tr>\n",
       "    <tr>\n",
       "      <th>4</th>\n",
       "      <td>-0.051049</td>\n",
       "      <td>0.943355</td>\n",
       "    </tr>\n",
       "    <tr>\n",
       "      <th>5</th>\n",
       "      <td>-0.196073</td>\n",
       "      <td>-1.091210</td>\n",
       "    </tr>\n",
       "  </tbody>\n",
       "</table>\n",
       "</div>"
      ],
      "text/plain": [
       "model  AkkarEtAl2008  CauzziEtAl2014\n",
       "0           0.062108        1.279864\n",
       "1           1.459138       -1.150115\n",
       "2          -0.838238       -0.632401\n",
       "3           1.280487       -0.768331\n",
       "4          -0.051049        0.943355\n",
       "5          -0.196073       -1.091210"
      ]
     },
     "metadata": {},
     "output_type": "display_data"
    },
    {
     "name": "stdout",
     "output_type": "stream",
     "text": [
      "\n"
     ]
    },
    {
     "data": {
      "text/markdown": [
       "**`df[(df.mag > 0)]`**"
      ],
      "text/plain": [
       "<IPython.core.display.Markdown object>"
      ]
     },
     "metadata": {},
     "output_type": "display_data"
    },
    {
     "data": {
      "text/html": [
       "<div>\n",
       "<style scoped>\n",
       "    .dataframe tbody tr th:only-of-type {\n",
       "        vertical-align: middle;\n",
       "    }\n",
       "\n",
       "    .dataframe tbody tr th {\n",
       "        vertical-align: top;\n",
       "    }\n",
       "\n",
       "    .dataframe thead tr th {\n",
       "        text-align: left;\n",
       "    }\n",
       "</style>\n",
       "<table border=\"1\" class=\"dataframe\">\n",
       "  <thead>\n",
       "    <tr>\n",
       "      <th>name</th>\n",
       "      <th>mag</th>\n",
       "      <th>rrup</th>\n",
       "      <th>period</th>\n",
       "      <th colspan=\"4\" halign=\"left\">median</th>\n",
       "    </tr>\n",
       "    <tr>\n",
       "      <th>imt</th>\n",
       "      <th></th>\n",
       "      <th></th>\n",
       "      <th></th>\n",
       "      <th colspan=\"2\" halign=\"left\">SA(0.1)</th>\n",
       "      <th colspan=\"2\" halign=\"left\">PGA</th>\n",
       "    </tr>\n",
       "    <tr>\n",
       "      <th>model</th>\n",
       "      <th></th>\n",
       "      <th></th>\n",
       "      <th></th>\n",
       "      <th>AkkarEtAl2008</th>\n",
       "      <th>CauzziEtAl2014</th>\n",
       "      <th>AkkarEtAl2008</th>\n",
       "      <th>CauzziEtAl2014</th>\n",
       "    </tr>\n",
       "  </thead>\n",
       "  <tbody>\n",
       "    <tr>\n",
       "      <th>0</th>\n",
       "      <td>0.545155</td>\n",
       "      <td>0.622717</td>\n",
       "      <td>-0.783415</td>\n",
       "      <td>0.062108</td>\n",
       "      <td>1.279864</td>\n",
       "      <td>-0.414853</td>\n",
       "      <td>0.290270</td>\n",
       "    </tr>\n",
       "    <tr>\n",
       "      <th>2</th>\n",
       "      <td>0.212283</td>\n",
       "      <td>0.248935</td>\n",
       "      <td>-0.761943</td>\n",
       "      <td>-0.838238</td>\n",
       "      <td>-0.632401</td>\n",
       "      <td>-0.110344</td>\n",
       "      <td>-2.105361</td>\n",
       "    </tr>\n",
       "    <tr>\n",
       "      <th>3</th>\n",
       "      <td>0.115162</td>\n",
       "      <td>-0.067061</td>\n",
       "      <td>0.131864</td>\n",
       "      <td>1.280487</td>\n",
       "      <td>-0.768331</td>\n",
       "      <td>-0.297862</td>\n",
       "      <td>-0.329636</td>\n",
       "    </tr>\n",
       "  </tbody>\n",
       "</table>\n",
       "</div>"
      ],
      "text/plain": [
       "name        mag      rrup    period        median                 \\\n",
       "imt                                       SA(0.1)                  \n",
       "model                               AkkarEtAl2008 CauzziEtAl2014   \n",
       "0      0.545155  0.622717 -0.783415      0.062108       1.279864   \n",
       "2      0.212283  0.248935 -0.761943     -0.838238      -0.632401   \n",
       "3      0.115162 -0.067061  0.131864      1.280487      -0.768331   \n",
       "\n",
       "name                                \n",
       "imt             PGA                 \n",
       "model AkkarEtAl2008 CauzziEtAl2014  \n",
       "0         -0.414853       0.290270  \n",
       "2         -0.110344      -2.105361  \n",
       "3         -0.297862      -0.329636  "
      ]
     },
     "metadata": {},
     "output_type": "display_data"
    }
   ],
   "source": [
    "def show_data_access(df):\n",
    "    from IPython.display import display, Markdown, Latex\n",
    "    display(Markdown('**`df.mag`**'))\n",
    "    display(df.mag)\n",
    "    print()\n",
    "    display(Markdown('**`df[\"median\"]`**'))\n",
    "    display(df[\"median\"])\n",
    "    print()\n",
    "    display(Markdown('**`df[\"median\"][\"SA(0.1)\"]`**'))\n",
    "    display(df[\"median\"]['SA(0.1)'])\n",
    "    print()\n",
    "    display(Markdown('**`df[(df.mag > 0)]`**'))\n",
    "    display(df[(df.mag > 0)])\n",
    "show_data_access(df)"
   ]
  },
  {
   "cell_type": "markdown",
   "id": "0aa9d26a-e9a5-4da3-88f7-20714a1ca855",
   "metadata": {},
   "source": [
    "### Saving dataframe"
   ]
  },
  {
   "cell_type": "code",
   "execution_count": 4,
   "id": "6cdc8e73-accd-433e-9df4-b775321d578a",
   "metadata": {},
   "outputs": [
    {
     "ename": "NameError",
     "evalue": "name 'dfr' is not defined",
     "output_type": "error",
     "traceback": [
      "\u001b[0;31m---------------------------------------------------------------------------\u001b[0m",
      "\u001b[0;31mNameError\u001b[0m                                 Traceback (most recent call last)",
      "Cell \u001b[0;32mIn[4], line 1\u001b[0m\n\u001b[0;32m----> 1\u001b[0m show_data_access(\u001b[43mdfr\u001b[49m)\n",
      "\u001b[0;31mNameError\u001b[0m: name 'dfr' is not defined"
     ]
    }
   ],
   "source": [
    "show_data_access(dfr)"
   ]
  },
  {
   "cell_type": "code",
   "execution_count": 5,
   "id": "9eed7ebf-c5e3-4c2a-ba57-3e2d6a092472",
   "metadata": {},
   "outputs": [
    {
     "name": "stdout",
     "output_type": "stream",
     "text": [
      "/Users/rizac/work/gfz/projects/sources/python/notebook_workbench/pd_csv_egsim.csv\n",
      "name,mag,rrup,period,median,median,median,median\n",
      "imt,,,,SA(0.1),SA(0.1),PGA,PGA\n",
      "model,,,,AkkarEtAl2008,CauzziEtAl2014,AkkarEtAl2008,CauzziEtAl2014\n",
      "0,0.5451554606820922,0.6227171721917899,-0.7834150977717467,0.06210751272650153,1.2798639005038186,-0.41485273744548157,0.2902701589799901\n",
      "1,-0.15476173439243696,1.0452946226029014,-1.4001848116112328,1.4591376125241633,-1.15011528779103,1.561159987572739,1.5103903610700382\n",
      "2,0.21228301846371608,0.2489349067679021,-0.7619429732491801,-0.8382378535626982,-0.6324008569327568,-0.11034432718313748,-2.1053605126435344\n",
      "3,0.11516232835297009,-0.0670608179951378,0.13186356200514388,1.2804869920593127,-0.76833130326063,-0.29786174392313236,-0.3296364679313031\n",
      "4,-0.33837319070031874,-0.0865416176088646,-2.4500065724297433,-0.05104853717075305,0.9433547066074601,-0.8892259141302811,0.07866655491323968\n",
      "5,-2.1590222841600024,0.8894426073940385,0.08560689421011886,-0.19607250386970812,-1.09121032001621,-0.8944499911909649,-0.5561694612456459\n",
      "\n"
     ]
    }
   ],
   "source": [
    "fout = os.path.join(os.getcwd(), 'pd_csv_egsim.csv')\n",
    "print(fout)\n",
    "df.to_csv(fout, index=True)\n",
    "with open(fout, 'rt') as _:\n",
    "    print(_.read())"
   ]
  },
  {
   "cell_type": "markdown",
   "id": "377628cd-36a5-409c-a249-bbc9f865296b",
   "metadata": {},
   "source": [
    "## Read dataframe"
   ]
  },
  {
   "cell_type": "code",
   "execution_count": 9,
   "id": "2249b2bc-dac1-4078-9130-e0475dc6a02f",
   "metadata": {},
   "outputs": [
    {
     "data": {
      "text/html": [
       "<div>\n",
       "<style scoped>\n",
       "    .dataframe tbody tr th:only-of-type {\n",
       "        vertical-align: middle;\n",
       "    }\n",
       "\n",
       "    .dataframe tbody tr th {\n",
       "        vertical-align: top;\n",
       "    }\n",
       "\n",
       "    .dataframe thead tr th {\n",
       "        text-align: left;\n",
       "    }\n",
       "</style>\n",
       "<table border=\"1\" class=\"dataframe\">\n",
       "  <thead>\n",
       "    <tr>\n",
       "      <th>name</th>\n",
       "      <th>mag</th>\n",
       "      <th>rrup</th>\n",
       "      <th>period</th>\n",
       "      <th colspan=\"4\" halign=\"left\">median</th>\n",
       "    </tr>\n",
       "    <tr>\n",
       "      <th>imt</th>\n",
       "      <th></th>\n",
       "      <th></th>\n",
       "      <th></th>\n",
       "      <th colspan=\"2\" halign=\"left\">SA(0.1)</th>\n",
       "      <th colspan=\"2\" halign=\"left\">PGA</th>\n",
       "    </tr>\n",
       "    <tr>\n",
       "      <th>model</th>\n",
       "      <th></th>\n",
       "      <th></th>\n",
       "      <th></th>\n",
       "      <th>AkkarEtAl2008</th>\n",
       "      <th>CauzziEtAl2014</th>\n",
       "      <th>AkkarEtAl2008</th>\n",
       "      <th>CauzziEtAl2014</th>\n",
       "    </tr>\n",
       "  </thead>\n",
       "  <tbody>\n",
       "    <tr>\n",
       "      <th>0</th>\n",
       "      <td>0.545155</td>\n",
       "      <td>0.622717</td>\n",
       "      <td>-0.783415</td>\n",
       "      <td>0.062108</td>\n",
       "      <td>1.279864</td>\n",
       "      <td>-0.414853</td>\n",
       "      <td>0.290270</td>\n",
       "    </tr>\n",
       "    <tr>\n",
       "      <th>1</th>\n",
       "      <td>-0.154762</td>\n",
       "      <td>1.045295</td>\n",
       "      <td>-1.400185</td>\n",
       "      <td>1.459138</td>\n",
       "      <td>-1.150115</td>\n",
       "      <td>1.561160</td>\n",
       "      <td>1.510390</td>\n",
       "    </tr>\n",
       "    <tr>\n",
       "      <th>2</th>\n",
       "      <td>0.212283</td>\n",
       "      <td>0.248935</td>\n",
       "      <td>-0.761943</td>\n",
       "      <td>-0.838238</td>\n",
       "      <td>-0.632401</td>\n",
       "      <td>-0.110344</td>\n",
       "      <td>-2.105361</td>\n",
       "    </tr>\n",
       "    <tr>\n",
       "      <th>3</th>\n",
       "      <td>0.115162</td>\n",
       "      <td>-0.067061</td>\n",
       "      <td>0.131864</td>\n",
       "      <td>1.280487</td>\n",
       "      <td>-0.768331</td>\n",
       "      <td>-0.297862</td>\n",
       "      <td>-0.329636</td>\n",
       "    </tr>\n",
       "    <tr>\n",
       "      <th>4</th>\n",
       "      <td>-0.338373</td>\n",
       "      <td>-0.086542</td>\n",
       "      <td>-2.450007</td>\n",
       "      <td>-0.051049</td>\n",
       "      <td>0.943355</td>\n",
       "      <td>-0.889226</td>\n",
       "      <td>0.078667</td>\n",
       "    </tr>\n",
       "    <tr>\n",
       "      <th>5</th>\n",
       "      <td>-2.159022</td>\n",
       "      <td>0.889443</td>\n",
       "      <td>0.085607</td>\n",
       "      <td>-0.196073</td>\n",
       "      <td>-1.091210</td>\n",
       "      <td>-0.894450</td>\n",
       "      <td>-0.556169</td>\n",
       "    </tr>\n",
       "  </tbody>\n",
       "</table>\n",
       "</div>"
      ],
      "text/plain": [
       "name        mag      rrup    period        median                 \\\n",
       "imt                                       SA(0.1)                  \n",
       "model                               AkkarEtAl2008 CauzziEtAl2014   \n",
       "0      0.545155  0.622717 -0.783415      0.062108       1.279864   \n",
       "1     -0.154762  1.045295 -1.400185      1.459138      -1.150115   \n",
       "2      0.212283  0.248935 -0.761943     -0.838238      -0.632401   \n",
       "3      0.115162 -0.067061  0.131864      1.280487      -0.768331   \n",
       "4     -0.338373 -0.086542 -2.450007     -0.051049       0.943355   \n",
       "5     -2.159022  0.889443  0.085607     -0.196073      -1.091210   \n",
       "\n",
       "name                                \n",
       "imt             PGA                 \n",
       "model AkkarEtAl2008 CauzziEtAl2014  \n",
       "0         -0.414853       0.290270  \n",
       "1          1.561160       1.510390  \n",
       "2         -0.110344      -2.105361  \n",
       "3         -0.297862      -0.329636  \n",
       "4         -0.889226       0.078667  \n",
       "5         -0.894450      -0.556169  "
      ]
     },
     "metadata": {},
     "output_type": "display_data"
    },
    {
     "data": {
      "text/plain": [
       "MultiIndex([(   'mag',        '',               ''),\n",
       "            (  'rrup',        '',               ''),\n",
       "            ('period',        '',               ''),\n",
       "            ('median', 'SA(0.1)',  'AkkarEtAl2008'),\n",
       "            ('median', 'SA(0.1)', 'CauzziEtAl2014'),\n",
       "            ('median',     'PGA',  'AkkarEtAl2008'),\n",
       "            ('median',     'PGA', 'CauzziEtAl2014')],\n",
       "           names=['name', 'imt', 'model'])"
      ]
     },
     "execution_count": 9,
     "metadata": {},
     "output_type": "execute_result"
    }
   ],
   "source": [
    "dfr = pd.read_csv(fout, header=[0, 1, 2], index_col=0).rename(columns=lambda c: \"\" if \"Unnamed: \" in c else c)\n",
    "# Explanation:\n",
    "# header: how many rows to use as header (first 3)\n",
    "# index_col: which column to use as DataFrame index (the first column)\n",
    "# rename: the CSV header has empty cells, pandas replaces them with custom strings (\"Unnamed: ...\"), we want to restore those empty cells\n",
    "# (Note also that this way we can access dataframe['mag'] as a pandas Series, with non-empty cells it would be a DataFrame)\n",
    "display(dfr)\n",
    "dfr.columns"
   ]
  },
  {
   "cell_type": "code",
   "execution_count": 7,
   "id": "2ecb9a14-c02b-4b88-bd72-1d12470b06eb",
   "metadata": {},
   "outputs": [
    {
     "data": {
      "text/markdown": [
       "**`df.mag`**"
      ],
      "text/plain": [
       "<IPython.core.display.Markdown object>"
      ]
     },
     "metadata": {},
     "output_type": "display_data"
    },
    {
     "data": {
      "text/plain": [
       "0    0.545155\n",
       "1   -0.154762\n",
       "2    0.212283\n",
       "3    0.115162\n",
       "4   -0.338373\n",
       "5   -2.159022\n",
       "Name: mag, dtype: float64"
      ]
     },
     "metadata": {},
     "output_type": "display_data"
    },
    {
     "name": "stdout",
     "output_type": "stream",
     "text": [
      "\n"
     ]
    },
    {
     "data": {
      "text/markdown": [
       "**`df[\"median\"]`**"
      ],
      "text/plain": [
       "<IPython.core.display.Markdown object>"
      ]
     },
     "metadata": {},
     "output_type": "display_data"
    },
    {
     "data": {
      "text/html": [
       "<div>\n",
       "<style scoped>\n",
       "    .dataframe tbody tr th:only-of-type {\n",
       "        vertical-align: middle;\n",
       "    }\n",
       "\n",
       "    .dataframe tbody tr th {\n",
       "        vertical-align: top;\n",
       "    }\n",
       "\n",
       "    .dataframe thead tr th {\n",
       "        text-align: left;\n",
       "    }\n",
       "</style>\n",
       "<table border=\"1\" class=\"dataframe\">\n",
       "  <thead>\n",
       "    <tr>\n",
       "      <th>imt</th>\n",
       "      <th colspan=\"2\" halign=\"left\">SA(0.1)</th>\n",
       "      <th colspan=\"2\" halign=\"left\">PGA</th>\n",
       "    </tr>\n",
       "    <tr>\n",
       "      <th>model</th>\n",
       "      <th>AkkarEtAl2008</th>\n",
       "      <th>CauzziEtAl2014</th>\n",
       "      <th>AkkarEtAl2008</th>\n",
       "      <th>CauzziEtAl2014</th>\n",
       "    </tr>\n",
       "  </thead>\n",
       "  <tbody>\n",
       "    <tr>\n",
       "      <th>0</th>\n",
       "      <td>0.062108</td>\n",
       "      <td>1.279864</td>\n",
       "      <td>-0.414853</td>\n",
       "      <td>0.290270</td>\n",
       "    </tr>\n",
       "    <tr>\n",
       "      <th>1</th>\n",
       "      <td>1.459138</td>\n",
       "      <td>-1.150115</td>\n",
       "      <td>1.561160</td>\n",
       "      <td>1.510390</td>\n",
       "    </tr>\n",
       "    <tr>\n",
       "      <th>2</th>\n",
       "      <td>-0.838238</td>\n",
       "      <td>-0.632401</td>\n",
       "      <td>-0.110344</td>\n",
       "      <td>-2.105361</td>\n",
       "    </tr>\n",
       "    <tr>\n",
       "      <th>3</th>\n",
       "      <td>1.280487</td>\n",
       "      <td>-0.768331</td>\n",
       "      <td>-0.297862</td>\n",
       "      <td>-0.329636</td>\n",
       "    </tr>\n",
       "    <tr>\n",
       "      <th>4</th>\n",
       "      <td>-0.051049</td>\n",
       "      <td>0.943355</td>\n",
       "      <td>-0.889226</td>\n",
       "      <td>0.078667</td>\n",
       "    </tr>\n",
       "    <tr>\n",
       "      <th>5</th>\n",
       "      <td>-0.196073</td>\n",
       "      <td>-1.091210</td>\n",
       "      <td>-0.894450</td>\n",
       "      <td>-0.556169</td>\n",
       "    </tr>\n",
       "  </tbody>\n",
       "</table>\n",
       "</div>"
      ],
      "text/plain": [
       "imt         SA(0.1)                          PGA               \n",
       "model AkkarEtAl2008 CauzziEtAl2014 AkkarEtAl2008 CauzziEtAl2014\n",
       "0          0.062108       1.279864     -0.414853       0.290270\n",
       "1          1.459138      -1.150115      1.561160       1.510390\n",
       "2         -0.838238      -0.632401     -0.110344      -2.105361\n",
       "3          1.280487      -0.768331     -0.297862      -0.329636\n",
       "4         -0.051049       0.943355     -0.889226       0.078667\n",
       "5         -0.196073      -1.091210     -0.894450      -0.556169"
      ]
     },
     "metadata": {},
     "output_type": "display_data"
    },
    {
     "name": "stdout",
     "output_type": "stream",
     "text": [
      "\n"
     ]
    },
    {
     "data": {
      "text/markdown": [
       "**`df[\"median\"][\"SA(0.1)\"]`**"
      ],
      "text/plain": [
       "<IPython.core.display.Markdown object>"
      ]
     },
     "metadata": {},
     "output_type": "display_data"
    },
    {
     "data": {
      "text/html": [
       "<div>\n",
       "<style scoped>\n",
       "    .dataframe tbody tr th:only-of-type {\n",
       "        vertical-align: middle;\n",
       "    }\n",
       "\n",
       "    .dataframe tbody tr th {\n",
       "        vertical-align: top;\n",
       "    }\n",
       "\n",
       "    .dataframe thead th {\n",
       "        text-align: right;\n",
       "    }\n",
       "</style>\n",
       "<table border=\"1\" class=\"dataframe\">\n",
       "  <thead>\n",
       "    <tr style=\"text-align: right;\">\n",
       "      <th>model</th>\n",
       "      <th>AkkarEtAl2008</th>\n",
       "      <th>CauzziEtAl2014</th>\n",
       "    </tr>\n",
       "  </thead>\n",
       "  <tbody>\n",
       "    <tr>\n",
       "      <th>0</th>\n",
       "      <td>0.062108</td>\n",
       "      <td>1.279864</td>\n",
       "    </tr>\n",
       "    <tr>\n",
       "      <th>1</th>\n",
       "      <td>1.459138</td>\n",
       "      <td>-1.150115</td>\n",
       "    </tr>\n",
       "    <tr>\n",
       "      <th>2</th>\n",
       "      <td>-0.838238</td>\n",
       "      <td>-0.632401</td>\n",
       "    </tr>\n",
       "    <tr>\n",
       "      <th>3</th>\n",
       "      <td>1.280487</td>\n",
       "      <td>-0.768331</td>\n",
       "    </tr>\n",
       "    <tr>\n",
       "      <th>4</th>\n",
       "      <td>-0.051049</td>\n",
       "      <td>0.943355</td>\n",
       "    </tr>\n",
       "    <tr>\n",
       "      <th>5</th>\n",
       "      <td>-0.196073</td>\n",
       "      <td>-1.091210</td>\n",
       "    </tr>\n",
       "  </tbody>\n",
       "</table>\n",
       "</div>"
      ],
      "text/plain": [
       "model  AkkarEtAl2008  CauzziEtAl2014\n",
       "0           0.062108        1.279864\n",
       "1           1.459138       -1.150115\n",
       "2          -0.838238       -0.632401\n",
       "3           1.280487       -0.768331\n",
       "4          -0.051049        0.943355\n",
       "5          -0.196073       -1.091210"
      ]
     },
     "metadata": {},
     "output_type": "display_data"
    },
    {
     "name": "stdout",
     "output_type": "stream",
     "text": [
      "\n"
     ]
    },
    {
     "data": {
      "text/markdown": [
       "**`df[(df.mag > 0)]`**"
      ],
      "text/plain": [
       "<IPython.core.display.Markdown object>"
      ]
     },
     "metadata": {},
     "output_type": "display_data"
    },
    {
     "data": {
      "text/html": [
       "<div>\n",
       "<style scoped>\n",
       "    .dataframe tbody tr th:only-of-type {\n",
       "        vertical-align: middle;\n",
       "    }\n",
       "\n",
       "    .dataframe tbody tr th {\n",
       "        vertical-align: top;\n",
       "    }\n",
       "\n",
       "    .dataframe thead tr th {\n",
       "        text-align: left;\n",
       "    }\n",
       "</style>\n",
       "<table border=\"1\" class=\"dataframe\">\n",
       "  <thead>\n",
       "    <tr>\n",
       "      <th>name</th>\n",
       "      <th>mag</th>\n",
       "      <th>rrup</th>\n",
       "      <th>period</th>\n",
       "      <th colspan=\"4\" halign=\"left\">median</th>\n",
       "    </tr>\n",
       "    <tr>\n",
       "      <th>imt</th>\n",
       "      <th></th>\n",
       "      <th></th>\n",
       "      <th></th>\n",
       "      <th colspan=\"2\" halign=\"left\">SA(0.1)</th>\n",
       "      <th colspan=\"2\" halign=\"left\">PGA</th>\n",
       "    </tr>\n",
       "    <tr>\n",
       "      <th>model</th>\n",
       "      <th></th>\n",
       "      <th></th>\n",
       "      <th></th>\n",
       "      <th>AkkarEtAl2008</th>\n",
       "      <th>CauzziEtAl2014</th>\n",
       "      <th>AkkarEtAl2008</th>\n",
       "      <th>CauzziEtAl2014</th>\n",
       "    </tr>\n",
       "  </thead>\n",
       "  <tbody>\n",
       "    <tr>\n",
       "      <th>0</th>\n",
       "      <td>0.545155</td>\n",
       "      <td>0.622717</td>\n",
       "      <td>-0.783415</td>\n",
       "      <td>0.062108</td>\n",
       "      <td>1.279864</td>\n",
       "      <td>-0.414853</td>\n",
       "      <td>0.290270</td>\n",
       "    </tr>\n",
       "    <tr>\n",
       "      <th>2</th>\n",
       "      <td>0.212283</td>\n",
       "      <td>0.248935</td>\n",
       "      <td>-0.761943</td>\n",
       "      <td>-0.838238</td>\n",
       "      <td>-0.632401</td>\n",
       "      <td>-0.110344</td>\n",
       "      <td>-2.105361</td>\n",
       "    </tr>\n",
       "    <tr>\n",
       "      <th>3</th>\n",
       "      <td>0.115162</td>\n",
       "      <td>-0.067061</td>\n",
       "      <td>0.131864</td>\n",
       "      <td>1.280487</td>\n",
       "      <td>-0.768331</td>\n",
       "      <td>-0.297862</td>\n",
       "      <td>-0.329636</td>\n",
       "    </tr>\n",
       "  </tbody>\n",
       "</table>\n",
       "</div>"
      ],
      "text/plain": [
       "name        mag      rrup    period        median                 \\\n",
       "imt                                       SA(0.1)                  \n",
       "model                               AkkarEtAl2008 CauzziEtAl2014   \n",
       "0      0.545155  0.622717 -0.783415      0.062108       1.279864   \n",
       "2      0.212283  0.248935 -0.761943     -0.838238      -0.632401   \n",
       "3      0.115162 -0.067061  0.131864      1.280487      -0.768331   \n",
       "\n",
       "name                                \n",
       "imt             PGA                 \n",
       "model AkkarEtAl2008 CauzziEtAl2014  \n",
       "0         -0.414853       0.290270  \n",
       "2         -0.110344      -2.105361  \n",
       "3         -0.297862      -0.329636  "
      ]
     },
     "metadata": {},
     "output_type": "display_data"
    }
   ],
   "source": [
    "show_data_access(dfr)"
   ]
  },
  {
   "cell_type": "code",
   "execution_count": 11,
   "id": "6a806102-6fa6-4dbf-b03d-11d8563e0f54",
   "metadata": {},
   "outputs": [
    {
     "name": "stdout",
     "output_type": "stream",
     "text": [
      "/Users/rizac/work/gfz/projects/sources/python/notebook_workbench/pd_csv_egsim.hdf\n"
     ]
    },
    {
     "data": {
      "text/html": [
       "<div>\n",
       "<style scoped>\n",
       "    .dataframe tbody tr th:only-of-type {\n",
       "        vertical-align: middle;\n",
       "    }\n",
       "\n",
       "    .dataframe tbody tr th {\n",
       "        vertical-align: top;\n",
       "    }\n",
       "\n",
       "    .dataframe thead tr th {\n",
       "        text-align: left;\n",
       "    }\n",
       "</style>\n",
       "<table border=\"1\" class=\"dataframe\">\n",
       "  <thead>\n",
       "    <tr>\n",
       "      <th>name</th>\n",
       "      <th>mag</th>\n",
       "      <th>rrup</th>\n",
       "      <th>period</th>\n",
       "      <th colspan=\"4\" halign=\"left\">median</th>\n",
       "    </tr>\n",
       "    <tr>\n",
       "      <th>imt</th>\n",
       "      <th></th>\n",
       "      <th></th>\n",
       "      <th></th>\n",
       "      <th colspan=\"2\" halign=\"left\">SA(0.1)</th>\n",
       "      <th colspan=\"2\" halign=\"left\">PGA</th>\n",
       "    </tr>\n",
       "    <tr>\n",
       "      <th>model</th>\n",
       "      <th></th>\n",
       "      <th></th>\n",
       "      <th></th>\n",
       "      <th>AkkarEtAl2008</th>\n",
       "      <th>CauzziEtAl2014</th>\n",
       "      <th>AkkarEtAl2008</th>\n",
       "      <th>CauzziEtAl2014</th>\n",
       "    </tr>\n",
       "  </thead>\n",
       "  <tbody>\n",
       "    <tr>\n",
       "      <th>0</th>\n",
       "      <td>0.545155</td>\n",
       "      <td>0.622717</td>\n",
       "      <td>-0.783415</td>\n",
       "      <td>0.062108</td>\n",
       "      <td>1.279864</td>\n",
       "      <td>-0.414853</td>\n",
       "      <td>0.290270</td>\n",
       "    </tr>\n",
       "    <tr>\n",
       "      <th>1</th>\n",
       "      <td>-0.154762</td>\n",
       "      <td>1.045295</td>\n",
       "      <td>-1.400185</td>\n",
       "      <td>1.459138</td>\n",
       "      <td>-1.150115</td>\n",
       "      <td>1.561160</td>\n",
       "      <td>1.510390</td>\n",
       "    </tr>\n",
       "    <tr>\n",
       "      <th>2</th>\n",
       "      <td>0.212283</td>\n",
       "      <td>0.248935</td>\n",
       "      <td>-0.761943</td>\n",
       "      <td>-0.838238</td>\n",
       "      <td>-0.632401</td>\n",
       "      <td>-0.110344</td>\n",
       "      <td>-2.105361</td>\n",
       "    </tr>\n",
       "    <tr>\n",
       "      <th>3</th>\n",
       "      <td>0.115162</td>\n",
       "      <td>-0.067061</td>\n",
       "      <td>0.131864</td>\n",
       "      <td>1.280487</td>\n",
       "      <td>-0.768331</td>\n",
       "      <td>-0.297862</td>\n",
       "      <td>-0.329636</td>\n",
       "    </tr>\n",
       "    <tr>\n",
       "      <th>4</th>\n",
       "      <td>-0.338373</td>\n",
       "      <td>-0.086542</td>\n",
       "      <td>-2.450007</td>\n",
       "      <td>-0.051049</td>\n",
       "      <td>0.943355</td>\n",
       "      <td>-0.889226</td>\n",
       "      <td>0.078667</td>\n",
       "    </tr>\n",
       "    <tr>\n",
       "      <th>5</th>\n",
       "      <td>-2.159022</td>\n",
       "      <td>0.889443</td>\n",
       "      <td>0.085607</td>\n",
       "      <td>-0.196073</td>\n",
       "      <td>-1.091210</td>\n",
       "      <td>-0.894450</td>\n",
       "      <td>-0.556169</td>\n",
       "    </tr>\n",
       "  </tbody>\n",
       "</table>\n",
       "</div>"
      ],
      "text/plain": [
       "name        mag      rrup    period        median                 \\\n",
       "imt                                       SA(0.1)                  \n",
       "model                               AkkarEtAl2008 CauzziEtAl2014   \n",
       "0      0.545155  0.622717 -0.783415      0.062108       1.279864   \n",
       "1     -0.154762  1.045295 -1.400185      1.459138      -1.150115   \n",
       "2      0.212283  0.248935 -0.761943     -0.838238      -0.632401   \n",
       "3      0.115162 -0.067061  0.131864      1.280487      -0.768331   \n",
       "4     -0.338373 -0.086542 -2.450007     -0.051049       0.943355   \n",
       "5     -2.159022  0.889443  0.085607     -0.196073      -1.091210   \n",
       "\n",
       "name                                \n",
       "imt             PGA                 \n",
       "model AkkarEtAl2008 CauzziEtAl2014  \n",
       "0         -0.414853       0.290270  \n",
       "1          1.561160       1.510390  \n",
       "2         -0.110344      -2.105361  \n",
       "3         -0.297862      -0.329636  \n",
       "4         -0.889226       0.078667  \n",
       "5         -0.894450      -0.556169  "
      ]
     },
     "metadata": {},
     "output_type": "display_data"
    }
   ],
   "source": [
    "fout = os.path.join(os.getcwd(), 'pd_csv_egsim.hdf')\n",
    "print(fout)\n",
    "dfr.to_hdf(fout, key='trellis', format='table')\n",
    "dfr = pd.read_hdf(fout)\n",
    "display(dfr)"
   ]
  },
  {
   "cell_type": "code",
   "execution_count": 13,
   "id": "e2d2df9e-2f3f-4847-ab5f-3e8d992de2df",
   "metadata": {},
   "outputs": [
    {
     "data": {
      "text/markdown": [
       "**`df.mag`**"
      ],
      "text/plain": [
       "<IPython.core.display.Markdown object>"
      ]
     },
     "metadata": {},
     "output_type": "display_data"
    },
    {
     "data": {
      "text/plain": [
       "0    0.545155\n",
       "1   -0.154762\n",
       "2    0.212283\n",
       "3    0.115162\n",
       "4   -0.338373\n",
       "5   -2.159022\n",
       "Name: mag, dtype: float64"
      ]
     },
     "metadata": {},
     "output_type": "display_data"
    },
    {
     "name": "stdout",
     "output_type": "stream",
     "text": [
      "\n"
     ]
    },
    {
     "data": {
      "text/markdown": [
       "**`df[\"median\"]`**"
      ],
      "text/plain": [
       "<IPython.core.display.Markdown object>"
      ]
     },
     "metadata": {},
     "output_type": "display_data"
    },
    {
     "data": {
      "text/html": [
       "<div>\n",
       "<style scoped>\n",
       "    .dataframe tbody tr th:only-of-type {\n",
       "        vertical-align: middle;\n",
       "    }\n",
       "\n",
       "    .dataframe tbody tr th {\n",
       "        vertical-align: top;\n",
       "    }\n",
       "\n",
       "    .dataframe thead tr th {\n",
       "        text-align: left;\n",
       "    }\n",
       "</style>\n",
       "<table border=\"1\" class=\"dataframe\">\n",
       "  <thead>\n",
       "    <tr>\n",
       "      <th>imt</th>\n",
       "      <th colspan=\"2\" halign=\"left\">SA(0.1)</th>\n",
       "      <th colspan=\"2\" halign=\"left\">PGA</th>\n",
       "    </tr>\n",
       "    <tr>\n",
       "      <th>model</th>\n",
       "      <th>AkkarEtAl2008</th>\n",
       "      <th>CauzziEtAl2014</th>\n",
       "      <th>AkkarEtAl2008</th>\n",
       "      <th>CauzziEtAl2014</th>\n",
       "    </tr>\n",
       "  </thead>\n",
       "  <tbody>\n",
       "    <tr>\n",
       "      <th>0</th>\n",
       "      <td>0.062108</td>\n",
       "      <td>1.279864</td>\n",
       "      <td>-0.414853</td>\n",
       "      <td>0.290270</td>\n",
       "    </tr>\n",
       "    <tr>\n",
       "      <th>1</th>\n",
       "      <td>1.459138</td>\n",
       "      <td>-1.150115</td>\n",
       "      <td>1.561160</td>\n",
       "      <td>1.510390</td>\n",
       "    </tr>\n",
       "    <tr>\n",
       "      <th>2</th>\n",
       "      <td>-0.838238</td>\n",
       "      <td>-0.632401</td>\n",
       "      <td>-0.110344</td>\n",
       "      <td>-2.105361</td>\n",
       "    </tr>\n",
       "    <tr>\n",
       "      <th>3</th>\n",
       "      <td>1.280487</td>\n",
       "      <td>-0.768331</td>\n",
       "      <td>-0.297862</td>\n",
       "      <td>-0.329636</td>\n",
       "    </tr>\n",
       "    <tr>\n",
       "      <th>4</th>\n",
       "      <td>-0.051049</td>\n",
       "      <td>0.943355</td>\n",
       "      <td>-0.889226</td>\n",
       "      <td>0.078667</td>\n",
       "    </tr>\n",
       "    <tr>\n",
       "      <th>5</th>\n",
       "      <td>-0.196073</td>\n",
       "      <td>-1.091210</td>\n",
       "      <td>-0.894450</td>\n",
       "      <td>-0.556169</td>\n",
       "    </tr>\n",
       "  </tbody>\n",
       "</table>\n",
       "</div>"
      ],
      "text/plain": [
       "imt         SA(0.1)                          PGA               \n",
       "model AkkarEtAl2008 CauzziEtAl2014 AkkarEtAl2008 CauzziEtAl2014\n",
       "0          0.062108       1.279864     -0.414853       0.290270\n",
       "1          1.459138      -1.150115      1.561160       1.510390\n",
       "2         -0.838238      -0.632401     -0.110344      -2.105361\n",
       "3          1.280487      -0.768331     -0.297862      -0.329636\n",
       "4         -0.051049       0.943355     -0.889226       0.078667\n",
       "5         -0.196073      -1.091210     -0.894450      -0.556169"
      ]
     },
     "metadata": {},
     "output_type": "display_data"
    },
    {
     "name": "stdout",
     "output_type": "stream",
     "text": [
      "\n"
     ]
    },
    {
     "data": {
      "text/markdown": [
       "**`df[\"median\"][\"SA(0.1)\"]`**"
      ],
      "text/plain": [
       "<IPython.core.display.Markdown object>"
      ]
     },
     "metadata": {},
     "output_type": "display_data"
    },
    {
     "data": {
      "text/html": [
       "<div>\n",
       "<style scoped>\n",
       "    .dataframe tbody tr th:only-of-type {\n",
       "        vertical-align: middle;\n",
       "    }\n",
       "\n",
       "    .dataframe tbody tr th {\n",
       "        vertical-align: top;\n",
       "    }\n",
       "\n",
       "    .dataframe thead th {\n",
       "        text-align: right;\n",
       "    }\n",
       "</style>\n",
       "<table border=\"1\" class=\"dataframe\">\n",
       "  <thead>\n",
       "    <tr style=\"text-align: right;\">\n",
       "      <th>model</th>\n",
       "      <th>AkkarEtAl2008</th>\n",
       "      <th>CauzziEtAl2014</th>\n",
       "    </tr>\n",
       "  </thead>\n",
       "  <tbody>\n",
       "    <tr>\n",
       "      <th>0</th>\n",
       "      <td>0.062108</td>\n",
       "      <td>1.279864</td>\n",
       "    </tr>\n",
       "    <tr>\n",
       "      <th>1</th>\n",
       "      <td>1.459138</td>\n",
       "      <td>-1.150115</td>\n",
       "    </tr>\n",
       "    <tr>\n",
       "      <th>2</th>\n",
       "      <td>-0.838238</td>\n",
       "      <td>-0.632401</td>\n",
       "    </tr>\n",
       "    <tr>\n",
       "      <th>3</th>\n",
       "      <td>1.280487</td>\n",
       "      <td>-0.768331</td>\n",
       "    </tr>\n",
       "    <tr>\n",
       "      <th>4</th>\n",
       "      <td>-0.051049</td>\n",
       "      <td>0.943355</td>\n",
       "    </tr>\n",
       "    <tr>\n",
       "      <th>5</th>\n",
       "      <td>-0.196073</td>\n",
       "      <td>-1.091210</td>\n",
       "    </tr>\n",
       "  </tbody>\n",
       "</table>\n",
       "</div>"
      ],
      "text/plain": [
       "model  AkkarEtAl2008  CauzziEtAl2014\n",
       "0           0.062108        1.279864\n",
       "1           1.459138       -1.150115\n",
       "2          -0.838238       -0.632401\n",
       "3           1.280487       -0.768331\n",
       "4          -0.051049        0.943355\n",
       "5          -0.196073       -1.091210"
      ]
     },
     "metadata": {},
     "output_type": "display_data"
    },
    {
     "name": "stdout",
     "output_type": "stream",
     "text": [
      "\n"
     ]
    },
    {
     "data": {
      "text/markdown": [
       "**`df[(df.mag > 0)]`**"
      ],
      "text/plain": [
       "<IPython.core.display.Markdown object>"
      ]
     },
     "metadata": {},
     "output_type": "display_data"
    },
    {
     "data": {
      "text/html": [
       "<div>\n",
       "<style scoped>\n",
       "    .dataframe tbody tr th:only-of-type {\n",
       "        vertical-align: middle;\n",
       "    }\n",
       "\n",
       "    .dataframe tbody tr th {\n",
       "        vertical-align: top;\n",
       "    }\n",
       "\n",
       "    .dataframe thead tr th {\n",
       "        text-align: left;\n",
       "    }\n",
       "</style>\n",
       "<table border=\"1\" class=\"dataframe\">\n",
       "  <thead>\n",
       "    <tr>\n",
       "      <th>name</th>\n",
       "      <th>mag</th>\n",
       "      <th>rrup</th>\n",
       "      <th>period</th>\n",
       "      <th colspan=\"4\" halign=\"left\">median</th>\n",
       "    </tr>\n",
       "    <tr>\n",
       "      <th>imt</th>\n",
       "      <th></th>\n",
       "      <th></th>\n",
       "      <th></th>\n",
       "      <th colspan=\"2\" halign=\"left\">SA(0.1)</th>\n",
       "      <th colspan=\"2\" halign=\"left\">PGA</th>\n",
       "    </tr>\n",
       "    <tr>\n",
       "      <th>model</th>\n",
       "      <th></th>\n",
       "      <th></th>\n",
       "      <th></th>\n",
       "      <th>AkkarEtAl2008</th>\n",
       "      <th>CauzziEtAl2014</th>\n",
       "      <th>AkkarEtAl2008</th>\n",
       "      <th>CauzziEtAl2014</th>\n",
       "    </tr>\n",
       "  </thead>\n",
       "  <tbody>\n",
       "    <tr>\n",
       "      <th>0</th>\n",
       "      <td>0.545155</td>\n",
       "      <td>0.622717</td>\n",
       "      <td>-0.783415</td>\n",
       "      <td>0.062108</td>\n",
       "      <td>1.279864</td>\n",
       "      <td>-0.414853</td>\n",
       "      <td>0.290270</td>\n",
       "    </tr>\n",
       "    <tr>\n",
       "      <th>2</th>\n",
       "      <td>0.212283</td>\n",
       "      <td>0.248935</td>\n",
       "      <td>-0.761943</td>\n",
       "      <td>-0.838238</td>\n",
       "      <td>-0.632401</td>\n",
       "      <td>-0.110344</td>\n",
       "      <td>-2.105361</td>\n",
       "    </tr>\n",
       "    <tr>\n",
       "      <th>3</th>\n",
       "      <td>0.115162</td>\n",
       "      <td>-0.067061</td>\n",
       "      <td>0.131864</td>\n",
       "      <td>1.280487</td>\n",
       "      <td>-0.768331</td>\n",
       "      <td>-0.297862</td>\n",
       "      <td>-0.329636</td>\n",
       "    </tr>\n",
       "  </tbody>\n",
       "</table>\n",
       "</div>"
      ],
      "text/plain": [
       "name        mag      rrup    period        median                 \\\n",
       "imt                                       SA(0.1)                  \n",
       "model                               AkkarEtAl2008 CauzziEtAl2014   \n",
       "0      0.545155  0.622717 -0.783415      0.062108       1.279864   \n",
       "2      0.212283  0.248935 -0.761943     -0.838238      -0.632401   \n",
       "3      0.115162 -0.067061  0.131864      1.280487      -0.768331   \n",
       "\n",
       "name                                \n",
       "imt             PGA                 \n",
       "model AkkarEtAl2008 CauzziEtAl2014  \n",
       "0         -0.414853       0.290270  \n",
       "2         -0.110344      -2.105361  \n",
       "3         -0.297862      -0.329636  "
      ]
     },
     "metadata": {},
     "output_type": "display_data"
    }
   ],
   "source": [
    "show_data_access(dfr)"
   ]
  },
  {
   "cell_type": "markdown",
   "id": "4ef0f29b-533f-463f-9413-cec32c70223f",
   "metadata": {},
   "source": [
    "### Example of plotting"
   ]
  },
  {
   "cell_type": "code",
   "execution_count": 23,
   "id": "e5fc0791-989d-4ffb-92ba-5ba5ca28fb0e",
   "metadata": {},
   "outputs": [
    {
     "data": {
      "text/plain": [
       "<matplotlib.legend.Legend at 0x11b328750>"
      ]
     },
     "execution_count": 23,
     "metadata": {},
     "output_type": "execute_result"
    },
    {
     "data": {
      "image/png": "[encoded data removed]",
      "text/plain": [
       "<Figure size 640x480 with 1 Axes>"
      ]
     },
     "metadata": {},
     "output_type": "display_data"
    }
   ],
   "source": [
    "import matplotlib.pyplot as plt\n",
    "# dfr['median']['PGA'].columns\n",
    "plt.plot(dfr['mag'], dfr['median']['PGA'], label=dfr['median']['PGA'].columns)\n",
    "plt.legend()"
   ]
  },
  {
   "cell_type": "markdown",
   "id": "4b9d0c77-57e4-439b-a29f-d5937148edc4",
   "metadata": {},
   "source": [
    "### To dict"
   ]
  },
  {
   "cell_type": "code",
   "execution_count": 84,
   "id": "44f89ce4-776f-4699-a258-73ac83fc4ea1",
   "metadata": {},
   "outputs": [
    {
     "name": "stdout",
     "output_type": "stream",
     "text": [
      "{'mag': [None, None, None, 0.11516232835297, -0.3383731907003187, -2.1590222841600024], 'rrup': [0.6227171721917899, 1.0452946226029014, 0.2489349067679021, -0.0670608179951378, -0.0865416176088646, 0.8894426073940385], 'period': [-0.7834150977717467, -1.4001848116112328, -0.7619429732491801, 0.1318635620051438, -2.4500065724297437, 0.0856068942101188], 'median': {'SA(0.1)': {'SA(0.1)': [1.2798639005038186, -1.15011528779103, -0.6324008569327568, -0.76833130326063, 0.94335470660746, -1.09121032001621]}, 'PGA': {'PGA': [0.2902701589799901, 1.5103903610700382, -2.1053605126435344, -0.3296364679313031, 0.0786665549132396, -0.5561694612456459]}}}\n"
     ]
    }
   ],
   "source": [
    "dfr.iloc[0,0] = np.nan\n",
    "dfr.iloc[1,0] = -np.inf\n",
    "dfr.iloc[2,0] = np.inf\n",
    "# display(dfr)\n",
    "\n",
    "dest_dict = {}\n",
    "for col in dfr.columns:\n",
    "    vals = dfr[col].replace([-np.inf, np.inf], np.nan)\n",
    "    nan = vals.isna()\n",
    "    if nan.any():\n",
    "        vals = vals.astype(object)\n",
    "        vals[nan] = None\n",
    "    vals = vals.to_list()\n",
    "    # add columns up to the next-to-last one:\n",
    "    sub_dest_dict = dest_dict\n",
    "    for i, c in enumerate(col[:-1]):\n",
    "        if not col[i+1]:\n",
    "            break\n",
    "        sub_dest_dict = sub_dest_dict.setdefault(c, {})\n",
    "    sub_dest_dict[c] = vals\n",
    "\n",
    "print(dest_dict)"
   ]
  },
  {
   "cell_type": "code",
   "execution_count": 63,
   "id": "da773f1a-a0d2-4c9d-bf73-b09bd135fe43",
   "metadata": {},
   "outputs": [
    {
     "name": "stdout",
     "output_type": "stream",
     "text": [
      "Help on function tolist in module pandas.core.base:\n",
      "\n",
      "tolist(self)\n",
      "    Return a list of the values.\n",
      "    \n",
      "    These are each a scalar type, which is a Python scalar\n",
      "    (for str, int, float) or a pandas scalar\n",
      "    (for Timestamp/Timedelta/Interval/Period)\n",
      "    \n",
      "    Returns\n",
      "    -------\n",
      "    list\n",
      "    \n",
      "    See Also\n",
      "    --------\n",
      "    numpy.ndarray.tolist : Return the array as an a.ndim-levels deep\n",
      "        nested list of Python scalars.\n",
      "    \n",
      "    Examples\n",
      "    --------\n",
      "    For Series\n",
      "    \n",
      "    >>> s = pd.Series([1, 2, 3])\n",
      "    >>> s.to_list()\n",
      "    [1, 2, 3]\n",
      "    \n",
      "    For Index:\n",
      "    \n",
      "    >>> idx = pd.Index([1, 2, 3])\n",
      "    >>> idx\n",
      "    Index([1, 2, 3], dtype='int64')\n",
      "    \n",
      "    >>> idx.to_list()\n",
      "    [1, 2, 3]\n",
      "\n"
     ]
    }
   ],
   "source": [
    "help(pd.Series.to_list)"
   ]
  },
  {
   "cell_type": "code",
   "execution_count": null,
   "id": "12c788f6-0402-4873-8750-1378b9b40d34",
   "metadata": {},
   "outputs": [],
   "source": []
  },
  {
   "cell_type": "code",
   "execution_count": null,
   "id": "dbf1fee3-ebe2-45a1-beb7-6cbc8f19eded",
   "metadata": {},
   "outputs": [],
   "source": []
  },
  {
   "cell_type": "markdown",
   "id": "59354882-ec30-4f74-ab21-79a29a89fdba",
   "metadata": {},
   "source": [
    "## Alternative way:\n",
    "But this is more verbose"
   ]
  },
  {
   "cell_type": "markdown",
   "id": "04234520-f52b-4ae4-8d06-24beadeb6461",
   "metadata": {
    "editable": true,
    "slideshow": {
     "slide_type": ""
    },
    "tags": []
   },
   "source": [
    "### Write with no index\n",
    "```\n",
    "fout = os.path.join(os.getcwd(), 'pd_csv_egsim.csv')\n",
    "print(fout)\n",
    "df.to_csv(fout, index=False)\n",
    "with open(fout, 'rt') as _:\n",
    "    print(_.read())\n",
    "```"
   ]
  },
  {
   "cell_type": "markdown",
   "id": "3b83bd2c-606f-4058-9845-8529026d1d3e",
   "metadata": {
    "editable": true,
    "slideshow": {
     "slide_type": ""
    },
    "tags": []
   },
   "source": [
    "### Read back\n",
    "(From https://stackoverflow.com/a/31326230)\n",
    "\n",
    "```\n",
    "dfr = pd.read_csv(fout, header=None, index_col=None)\n",
    "```\n",
    "#### Split first 3 rows (header) and the rest (data frame body):\n",
    "\n",
    "```\n",
    "columns, dfr = dfr.iloc[:3], dfr.iloc[3:]\n",
    "```\n",
    "#### Replace NaN (added by pandas by default) with emtpy strings:\n",
    "```\n",
    "columns = columns.fillna('')\n",
    "```\n",
    "#### set the new columns as multi-index ():\n",
    "```\n",
    "dfr.columns = pd.MultiIndex.from_arrays(columns.values, names=['name', 'imt', 'model'])\n",
    "```\n",
    "#### Make the DataFrame index (1 st column) start from 0 (and not 3):\n",
    "```\n",
    "dfr = dfr.reset_index(drop=True)\n",
    "```\n",
    "#### And set all data as float because it wasn't:\n",
    "```\n",
    "dfr = dfr.astype(float)\n",
    "```"
   ]
  },
  {
   "cell_type": "code",
   "execution_count": null,
   "id": "7c9e3922-56d0-4f33-8704-4cbdef549c74",
   "metadata": {},
   "outputs": [],
   "source": []
  }
 ],
 "metadata": {
  "kernelspec": {
   "display_name": "Python 3 (ipykernel)",
   "language": "python",
   "name": "python3"
  },
  "language_info": {
   "codemirror_mode": {
    "name": "ipython",
    "version": 3
   },
   "file_extension": ".py",
   "mimetype": "text/x-python",
   "name": "python",
   "nbconvert_exporter": "python",
   "pygments_lexer": "ipython3",
   "version": "3.9.7"
  }
 },
 "nbformat": 4,
 "nbformat_minor": 5
}
